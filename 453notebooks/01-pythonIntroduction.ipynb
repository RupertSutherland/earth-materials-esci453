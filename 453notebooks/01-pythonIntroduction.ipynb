{
 "cells": [
  {
   "cell_type": "markdown",
   "metadata": {},
   "source": [
    "# Introduction to scientific python programming\n",
    "## Getting started\n",
    "\n",
    "Python is a programming language designed to be easy to read and implement. It is free and open source, with great online resources. Python can/does run on Mac, Windows, and Unix/Linux systems. It is considered a scripting language and is often used for creating web applications or dynamic content and a wide range of real-world applications, including science. It is a great transferrable skill to have.\n",
    "\n",
    "Python is a high-level language. Many programs now provide a python interface (API) that allows you to write python code to automate tasks, e.g. an automated workflow in ArcGIS. Complex bits of scientific code can be 'wrapped', so that it is possible to have high-level control with python and you don't need to learn how to program in Fortran or C. Python code can and should be more readable and easy to understand than most other languages, but is not necessarily slower, because much of the computation might still be done by code written and compiled using lower-level languages (such as C). Scripts written in Python (.PY files) can be parsed and run immediately. They can also be saved as compiled code (.PYC files), which might be used as **module** or **package** (collection of modules) that you can  **import** to your program.\n",
    "\n",
    "The two best ways to start programming are: (A) experiment using jupyter notebooks on an existing server; or (B) install an integrated development environment (IDE) on your local machine. The latter is a better option, but requires that you have space, privileges, and a small amount of time to do it.\n",
    "\n",
    "To install a comprehensive python environment and useful tools for scientific computing on your local machine...\n",
    "\n",
    "1. Install Anaconda (python version 3.xx). Follow instructions at https://www.anaconda.com/\n",
    "\n",
    "2. Open \"anaconda prompt\" and type `conda update anaconda` then agree with any instructions.\n",
    "\n",
    "3. Open \"anaconda navigator\" then launch \"spyder\" IDE. You can write and run programs and interactively play.\n",
    "\n",
    "Remember there are **lots** of useful resources on the internet. You can usually find a solution by searching `python example myProblem`\n",
    "\n",
    "## What is a notebook?\n",
    "\n",
    "A 'jupyter notebook' contains *markdown* cells and *code* cells. This is a *markdown* cell, which is just text that can be nicely formatted, contain equations, etc. The *code* cells in this notebook consist of python (version 3) code that can be run individually. However, note that it is important they are run in the correct order. If in doubt then re-run all cells in notebook - most interfaces have this option (something like: *Kernel - Restart and run all*).\n",
    "\n",
    "## Data \"type\" and concepts of \"class\" and \"object\"\n",
    "\n",
    "It is important to be aware that a computer works by interpreting (using code) lots of 1s and 0s in its memory. If a block of memory is allocated for something, e.g. the value of some variable you are using, then what **type** of thing is it? Python is cleverer than most languages at figuring out what you are trying to do..."
   ]
  },
  {
   "cell_type": "code",
   "execution_count": 1,
   "metadata": {},
   "outputs": [
    {
     "name": "stdout",
     "output_type": "stream",
     "text": [
      "<class 'int'> <class 'float'> <class 'float'> <class 'float'> <class 'str'>\n"
     ]
    }
   ],
   "source": [
    "x = 3\n",
    "y = 3.\n",
    "z = x * y\n",
    "pi = 3.14\n",
    "s = \"pi is ABOUT 3.14\"\n",
    "\n",
    "print(type(x),type(y),type(z),type(pi),type(s))"
   ]
  },
  {
   "cell_type": "markdown",
   "metadata": {},
   "source": [
    "The first two lines assign (=) values to variables that we call x and y. We see from the print output that python identified x as an **integer** (type 'int'). The value of y is exactly the same as x, but y is identified as a **floating point number** (type 'float'), because it had a decimal point in when it was created (**instantiated** in programming jargon). z is defined as the product of x and y, and is sensibly inferred to be a floating point number, as is our variable called pi.\n",
    "\n",
    "s is plain text, defined by quotes ('single' and \"double\" quotes are both valid), and is called a **string** (type 'str') in programming. \n",
    "\n",
    "Python is an **object-oriented** programming language. An \"object\" can contain both specific data and functionality too. The code instrument that defines what **type** of **object** is produced when it is **instantiated** (created) with specific data is called a **class**. Documentation about built-in types in python: https://docs.python.org/3/library/stdtypes.html\n",
    "\n",
    "Let's demonstrate the functionality aspect of being object oriented..."
   ]
  },
  {
   "cell_type": "code",
   "execution_count": 2,
   "metadata": {},
   "outputs": [
    {
     "name": "stdout",
     "output_type": "stream",
     "text": [
      "pi is ABOUT 3.14\n",
      "Pi is about 3.14\n"
     ]
    }
   ],
   "source": [
    "print(s)\n",
    "print(s.capitalize())"
   ]
  },
  {
   "cell_type": "markdown",
   "metadata": {},
   "source": [
    "We see that the string ('str') class definition includes a function that will capitalize the first character and make sure all the rest are lower case. The object `s` has this function built into it. The code is written as `myobject.function()` identifying the function `function()` within the object called `myobject`. It is specific to the data of that object. The object-oriented approach binds specific data and general functions together and has two main advantages: (1) it makes code easy to read/undertand; and (2) it facilitates the modular construction of complex programs (encapsulation of data and names, abstraction to generalize object types, inheritance that allows you to reuse code more easily, and polymorphism that allows you to create multiple different objects of the same type)."
   ]
  },
  {
   "cell_type": "markdown",
   "metadata": {},
   "source": [
    "## Comments and readability\n",
    "\n",
    "Python code should be readable, i.e. an inexperienced programmer should be able to look at your code and understand what is going on. How you lay the code out and the names that you choose should be enough in most cases. However, sometimes you will want to include a hint to the reader with a short comment, or you may want to insert a longer comment block. In particular, there are some conventions (that it is a good idea to follow, but not compulsory) about the insertion of comment blocks at the start of functions, classes, and modules that allows for automatic generation of help documents.\n",
    "\n",
    "The `#` character can be used to comment out the rest of the line - it is usually used as the first character in the line. Comment blocks can be started and ended with triple quotes. Both \"double\" and 'single' quote characters work, but the way you start and end a comment block must be the same, e.g. `''' this is a comment '''` and `\"\"\" this is a comment \"\"\"` and even `\"\"\" this is a ''' comment within ''' another comment\"\"\"`."
   ]
  },
  {
   "cell_type": "code",
   "execution_count": 3,
   "metadata": {
    "scrolled": true
   },
   "outputs": [
    {
     "data": {
      "text/plain": [
       "' Examples of comments '"
      ]
     },
     "execution_count": 3,
     "metadata": {},
     "output_type": "execute_result"
    }
   ],
   "source": [
    "\"\"\" \n",
    "Examples of comments \n",
    "\"\"\"\n",
    "''' Examples of comments '''\n",
    "# and this is a comment"
   ]
  },
  {
   "cell_type": "markdown",
   "metadata": {},
   "source": [
    "## Names\n",
    "\n",
    "It is important to choose names that make it easy to understand what your various objects actually represent. However, it is a problem if that word is already assigned to something else. There are some keywords reserved in Python version 3 (see below), because they already mean something."
   ]
  },
  {
   "cell_type": "code",
   "execution_count": 4,
   "metadata": {
    "scrolled": true
   },
   "outputs": [
    {
     "name": "stdout",
     "output_type": "stream",
     "text": [
      "List of reserved words in python 3: ['False', 'None', 'True', 'and', 'as', 'assert', 'async', 'await', 'break', 'class', 'continue', 'def', 'del', 'elif', 'else', 'except', 'finally', 'for', 'from', 'global', 'if', 'import', 'in', 'is', 'lambda', 'nonlocal', 'not', 'or', 'pass', 'raise', 'return', 'try', 'while', 'with', 'yield']\n"
     ]
    }
   ],
   "source": [
    "import keyword\n",
    "print('List of reserved words in python 3:',keyword.kwlist)"
   ]
  },
  {
   "cell_type": "markdown",
   "metadata": {},
   "source": [
    "## Case sensitive\n",
    "\n",
    "Python cares about capitalization. Code snippets `q = 1` and `Q = 2` define two separate variables (type 'int'). \n",
    "\n",
    "Convention is to use capitalization to improve readability, e.g. `myObject` or `namesOfMyFavouriteAnimals`."
   ]
  },
  {
   "cell_type": "markdown",
   "metadata": {},
   "source": [
    "## Scope\n",
    "\n",
    "As programs get longer and complex it becomes harder to avoid reusing names. To help facilitate this (and avoid conflict/confusion), python restricts the scope of any particular name. **Scope is the part of the program where the name means what you intended**. A top-level name defined in your main program has global scope, i.e. any part of your program can see it, whereas an object defined within a particular function is only visible to that function (or functions within that function). We will come to functions later, but it is generally not a good idea to write functions that modify global variables, because then those functions are tied to your main program and can't easily be reused by other programs. If you define all the variable names within a function, even if you use the same name as a global variable, then that function will only use the definition with local scope and the function can be reused in other code without needing to worry. The key point for this tutorial is to understand that not all names are global -- most should only have local scope. An example is shown below."
   ]
  },
  {
   "cell_type": "code",
   "execution_count": 5,
   "metadata": {},
   "outputs": [
    {
     "name": "stdout",
     "output_type": "stream",
     "text": [
      "x in myFunction = 2\n",
      "x in main program remains unaffected = 1\n"
     ]
    }
   ],
   "source": [
    "x = 1\n",
    "\n",
    "def myFunction():\n",
    "    '''\n",
    "    This is a function that locally defines x=2 and then prints the value.\n",
    "    It illustrates the local scope of x: no other variable called x is affected.\n",
    "    '''\n",
    "    x = 2\n",
    "    print('x in myFunction =',x)\n",
    "\n",
    "# The code above defines the function, and below it is 'called', i.e. run/implemented\n",
    "myFunction()\n",
    "\n",
    "print('x in main program remains unaffected =',x)"
   ]
  },
  {
   "cell_type": "markdown",
   "metadata": {},
   "source": [
    "## Flow control and indentation\n",
    "\n",
    "Python interprets code line-by-line: it can be a problem if you break to a new line. It might not be a problem if the code is expecting something, e.g. a closing bracket. However, if you want to break a long line of code without a problem, then insert the character `\\` at the end of the line. Try to make code readable and understandable: don't make really long lines (or break really short ones, like below) -- be aware that it can cause a problem to break a line and how to fix that.\n",
    "\n",
    "Indentation is used to identify which block of code belongs together (e.g. see definition of `myFunction()` above). Each level of indent is usually 4 space characters, though most editors allow you to use `Tab` or `Shift-Tab` to indent or un-indent blocks of selected code.\n",
    "\n",
    "The following code is not best practice, but it works. Note that the `print(character)` statement is part of a loop that iterates through every letter in the string `s`, but the last print statement (function call) is outside that loop (it is not indented)."
   ]
  },
  {
   "cell_type": "code",
   "execution_count": 6,
   "metadata": {
    "scrolled": false
   },
   "outputs": [
    {
     "name": "stdout",
     "output_type": "stream",
     "text": [
      "p\n",
      "i\n",
      " \n",
      "i\n",
      "s\n",
      " \n",
      "A\n",
      "B\n",
      "O\n",
      "U\n",
      "T\n",
      " \n",
      "3\n",
      ".\n",
      "1\n",
      "4\n",
      "r = 4 and q = 3\n"
     ]
    }
   ],
   "source": [
    "# illustrate how to break a line\n",
    "r = \\\n",
    "4\n",
    "\n",
    "# illustrate that in this case breaking a line doesn't matter\n",
    "q = (1 +\n",
    "    2)\n",
    "# indentation above does nothing -- python will keep going until it finds the closing bracket\n",
    "\n",
    "# indentation below identifies code within the loop, which python is trying to figure out\n",
    "for character in s:\n",
    "    \n",
    "    # the next line is in the loop\n",
    "    print(character)\n",
    "\n",
    "# this line is not indented, so only runs after the loop is finished\n",
    "print('r =',r,'and q =',q)"
   ]
  },
  {
   "cell_type": "code",
   "execution_count": null,
   "metadata": {},
   "outputs": [],
   "source": []
  }
 ],
 "metadata": {
  "kernelspec": {
   "display_name": "Python 3",
   "language": "python",
   "name": "python3"
  },
  "language_info": {
   "codemirror_mode": {
    "name": "ipython",
    "version": 3
   },
   "file_extension": ".py",
   "mimetype": "text/x-python",
   "name": "python",
   "nbconvert_exporter": "python",
   "pygments_lexer": "ipython3",
   "version": "3.7.4"
  }
 },
 "nbformat": 4,
 "nbformat_minor": 4
}
