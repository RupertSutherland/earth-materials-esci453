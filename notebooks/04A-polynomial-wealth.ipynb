{
 "cells": [
  {
   "cell_type": "markdown",
   "metadata": {},
   "source": [
    "# Fitting models to data\n",
    "\n",
    "This is NOT a maths course. Our aim is to provide practical advice, so that an appropriate model can be chosen to fit a dataset.   \n",
    "Start by asking yourself some questions.  \n",
    "**Are all my data OK, and what range am I interested in?**  \n",
    "**What type of model might I expect?**  \n",
    "**What shape of curve looks like it fits acceptably?**  \n",
    "Note: statistical measures of fit should usually be considered, but a quick visual test is a good starting point."
   ]
  },
  {
   "cell_type": "code",
   "execution_count": 1,
   "metadata": {},
   "outputs": [],
   "source": [
    "''' Import modules and load data'''\n",
    "\n",
    "import numpy as np\n",
    "import matplotlib.pyplot as plt\n",
    "\n",
    "# load global GDP per capita (wealth) data\n",
    "filename = '../data/economy/gdp-per-capita-world-usd2010.csv'\n",
    "gdpYear = np.genfromtxt(filename,delimiter=',',skip_header=1,usecols=(0,))\n",
    "gdpPerCapita = np.genfromtxt(filename,delimiter=',',skip_header=1,usecols=(1,))\n"
   ]
  },
  {
   "cell_type": "markdown",
   "metadata": {},
   "source": [
    "## Polynomial models\n",
    "### Constant value\n",
    "\n",
    "\\begin{equation}  y = C_0  \\end{equation}  \n",
    "\n",
    "The simplest model to fit to your data is simply that there is some underlying constant value. \n",
    "\n",
    "Measurement error or real fluctuations may result in variability in your data. The obvious and most commonly used approach is to simply find the mean value of a numpy array of observations  \n",
    "`C = yObservations.mean()`  \n",
    "\n",
    "However, not all data are perfect! What if there are measurement errors (producing wildly wrong values), or other infrequent processes interrupt normal observations (e.g. a truck drove past your measurement site)? Maybe you need to remove outliers?  \n",
    "One way to do this is to take the median value   \n",
    "`C = yObservations.median()`   \n",
    "\n",
    "Alternatively, take the mean and then remove all values that are extreme (e.g. >3 standard deviations from the mean). If you know some rule to find anomalous values, you can manually deselect invalid data, e.g. if you have some invalid zero values  \n",
    "`C = yObservations[yObservations != 0].mean()`  \n",
    "The operator `!=` means 'not equals'  \n",
    "\n",
    "**These considerations ALWAYS apply: first filter to only use relevant/valid data.**\n"
   ]
  },
  {
   "cell_type": "markdown",
   "metadata": {},
   "source": [
    "### Linear fit\n",
    "\n",
    "\\begin{equation}  y = C_0 + C_1 x \\end{equation}  \n",
    "\n",
    "A straight line (polynomial of order 1) is probably the starting point for any analysis of bivariate data (two variables/observables $x,y$).  \n",
    "\n",
    "We use numpy to solve real-world problems in steps.  \n",
    "\n",
    "**Step 1:** Fit observed data to find model parameters  \n",
    "`modelParameters = np.polyfit(xObservations,yObservations,1)`  \n",
    "this generates a list object [$C_1,C_0$]\n",
    "\n",
    "**Step 2:** Define a generalized function $f$, based on the model parameters, that can compute  $y=f(x)$ at any $x$.  \n",
    "`modelFunction = np.poly1d(modelParameters)`\n",
    "\n",
    "**Step 3:** Generate model values of $y$ at specific values of $x$ that you are interested in.  \n",
    "`yModelValues = modelFunction(xValues)`"
   ]
  },
  {
   "cell_type": "markdown",
   "metadata": {},
   "source": [
    "### Generalized polynomial\n",
    "\n",
    "\\begin{equation}  y = C_0 + C_1 x + ... + C_nx^n\\end{equation}  \n",
    "\n",
    "The complexity of the model can be increased by increasing the order ($n$) of the polynomial. Quadratic ($n=2$), cubic ($n=3$), etc.  \n",
    "The `list` of model parameters simply increases in length [$C_n,...,C_1,C_0$].\n",
    "\n",
    "Try experimenting below with the GDP data (try $n$ up to 5). "
   ]
  },
  {
   "cell_type": "code",
   "execution_count": 2,
   "metadata": {},
   "outputs": [
    {
     "data": {
      "image/png": "[encoded data removed]",
      "text/plain": [
       "<Figure size 432x288 with 1 Axes>"
      ]
     },
     "metadata": {
      "needs_background": "light"
     },
     "output_type": "display_data"
    },
    {
     "name": "stdout",
     "output_type": "stream",
     "text": [
      "modelParameters = [ 1.13568228e+02 -2.18737830e+05]\n"
     ]
    }
   ],
   "source": [
    "# Plot data\n",
    "x = gdpYear\n",
    "y = gdpPerCapita\n",
    "plt.scatter(x,y,color='lightgrey')\n",
    "\n",
    "polynomialOrder = n = 1\n",
    "\n",
    "modelParameters = np.polyfit(x,y,polynomialOrder)\n",
    "\n",
    "modelFunction = np.poly1d(modelParameters)\n",
    "yModel = modelFunction(x)\n",
    "\n",
    "plt.plot(x, yModel, color='black')\n",
    "\n",
    "# extrapolate to future\n",
    "xFuture = np.arange(2020,2051,1)\n",
    "yFuture = modelFunction(xFuture)\n",
    "plt.plot(xFuture,yFuture,color='darkred',linestyle='--')\n",
    "\n",
    "plt.xlabel('Year')\n",
    "plt.ylabel('GDP/person (USD 2010)')\n",
    "plt.show()\n",
    "print('modelParameters =',modelParameters)"
   ]
  },
  {
   "cell_type": "markdown",
   "metadata": {},
   "source": [
    "Note how sensitive future predictions are to increasing model complexity.  \n",
    "It is risky to extrapolate outside the data range using a high-order polynomial.  \n",
    "Maybe a simple linear model ($n=1$) is enough for this dataset!"
   ]
  },
  {
   "cell_type": "markdown",
   "metadata": {},
   "source": [
    "## Exponential growth\n",
    "\n",
    "Consider a population containing $N$ items, e.g. atoms, people, or sick people. Each individual item experiences creation and later destruction. The change in size of the population ($dN$) depends on a growth factor (probablility per unit time, $k$) that describes the net effect of an individual reproducing (increases population) or dying (reduces population), multiplied by the current size of the population ($N$), multiplied by the length of time elapsed ($dt$). \n",
    "\n",
    "\\begin{equation*}\n",
    "dN = k N dt \n",
    "\\end{equation*}\n",
    "\n",
    "\n",
    "\\begin{equation*}\n",
    "\\frac{dN}{dt} = k N  \n",
    "\\end{equation*}\n",
    "\n",
    "or equivalently in dimensionless form\n",
    "\n",
    "\\begin{equation*}\n",
    "\\frac{dN}{N} = \\frac{dt}{T}\n",
    "\\end{equation*}\n",
    "\n",
    "where $T=1/k$ is a characteristic time.\n",
    "\n",
    "If $k$ (and $T$ ) is not a function of $N$ then the equation can be easily separated, rearranged and integrated to find a solution.\n",
    "\n",
    "\\begin{equation*}\n",
    "\\int \\frac{dN}{N} = \\int k dt\n",
    "\\end{equation*}\n",
    "\n",
    "If $k$ is constant (does not change with time), then the solution is\n",
    "\n",
    "\\begin{equation*}\n",
    "\\ln N = A + k t\n",
    "\\end{equation*}\n",
    "\n",
    "\\begin{equation*}\n",
    "N = B \\exp(k t) = B \\exp\\left(\\frac{t}{T}\\right)\n",
    "\\end{equation*}\n",
    "\n",
    "i.e. exponential growth or decay, depending on the sign of the growth factor $k$ ($A$ and $B$ are constants, with $B = e^A$)."
   ]
  },
  {
   "cell_type": "markdown",
   "metadata": {},
   "source": [
    "## Fitting an exponential model: BEVs\n",
    "\n",
    "In the simple case that k is a constant, we have a straight line.\n",
    "\n",
    "\\begin{equation} y = A + k t \\end{equation}\n",
    "\n",
    "So, if we plot $y = \\ln(N)$ against $x = t$, we could fit a straight line with $C_0 = A$ and $C_1 = k$. \n",
    "\n",
    "To transform back from y to N, we use the inverse of the $\\ln()$ function, which is $\\exp()$, applied to both sides of the equation.  \n",
    "\n",
    "\\begin{equation} N = \\exp(y) = \\exp(A + k t) = B\\exp(kt)\\end{equation}\n"
   ]
  },
  {
   "cell_type": "code",
   "execution_count": 3,
   "metadata": {},
   "outputs": [
    {
     "data": {
      "image/png": "[encoded data removed]",
      "text/plain": [
       "<Figure size 432x288 with 1 Axes>"
      ]
     },
     "metadata": {
      "needs_background": "light"
     },
     "output_type": "display_data"
    }
   ],
   "source": [
    "filename = '../data/energy-renewable/BEV_IEA2020.csv' \n",
    "tBev,bev = np.genfromtxt(filename,delimiter=',',skip_header=2,usecols=(0,1),unpack=True)\n",
    "\n",
    "params = np.polyfit(tBev,np.log(bev),1)\n",
    "k = params[0]\n",
    "modelFunc = np.poly1d(params)\n",
    "trendBev = np.exp(modelFunc(tBev))\n",
    "\n",
    "plt.yscale('log')\n",
    "plt.plot(tBev,bev,marker='o',color='lightgrey',linestyle='')\n",
    "plt.plot(tBev,trendBev,color='black',linestyle='--')\n",
    "plt.xlabel('Year')\n",
    "plt.ylabel('Battery electric vehicles (millions)')\n",
    "plt.show()"
   ]
  },
  {
   "cell_type": "code",
   "execution_count": 4,
   "metadata": {},
   "outputs": [
    {
     "data": {
      "image/png": "[encoded data removed]",
      "text/plain": [
       "<Figure size 432x288 with 1 Axes>"
      ]
     },
     "metadata": {
      "needs_background": "light"
     },
     "output_type": "display_data"
    }
   ],
   "source": [
    "plt.plot(tBev,bev,marker='o',color='lightgrey',linestyle='')\n",
    "plt.plot(tBev,trendBev,color='black',linestyle='--')\n",
    "plt.xlabel('Year')\n",
    "plt.ylabel('Battery electric vehicles (millions)')\n",
    "\n",
    "plt.show()"
   ]
  },
  {
   "cell_type": "markdown",
   "metadata": {},
   "source": [
    "## Your task - find growth factors for renewable energy\n",
    "\n",
    "The directory `../data/energy-renewable/` contains several datasets, such as the levelized cost of energy (LCOE) for solar and wind energy, the price of lithium batteries, and the total amounts of renewable generation. Plot some of these data and find annual proportional changes (growth factor - which could be expressed as a % just like a bank interest rate). Hunt for other energy transition data on the internet and do a similar exercise and add to your report.  Your report should contain an illustrated overview of how technology related to energy transition is growing in size and reducing in price over past decades. You will find that exponential models are applicable to many of these data.\n"
   ]
  }
 ],
 "metadata": {
  "kernelspec": {
   "display_name": "Python 3 (ipykernel)",
   "language": "python",
   "name": "python3"
  },
  "language_info": {
   "codemirror_mode": {
    "name": "ipython",
    "version": 3
   },
   "file_extension": ".py",
   "mimetype": "text/x-python",
   "name": "python",
   "nbconvert_exporter": "python",
   "pygments_lexer": "ipython3",
   "version": "3.7.12"
  }
 },
 "nbformat": 4,
 "nbformat_minor": 4
}
