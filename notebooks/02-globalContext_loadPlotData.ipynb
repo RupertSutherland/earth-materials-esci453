{
 "cells": [
  {
   "cell_type": "markdown",
   "metadata": {},
   "source": [
    "# Global context for energy transition: population, wealth, energy\n",
    "\n",
    "## Python\n",
    "### Opening comment  \n",
    "Most python programs start with a descriptive comment block.  \n",
    "The very first line might be a special comment called a 'shebang' such as  \n",
    "`#!/usr/bin/env python3`  \n",
    "This tells the operating system how to execute it when it is run as a stand-alone program.  \n",
    "However, if you are working in spyder then it is not critical to have it there.  \n",
    "\n",
    "More important is to simply have a descriptive comment at the start of every significant piece of code, e.g. start of program, start of function, start of class, etc. so that you know what the code does. This first comment block is often read automatically by help systems (such as the one in spyder).\n",
    "\n",
    "### import\n",
    "Most programs reuse code that has already been written and saved as a module or package of modules. All this code is usually imported at the start of the program, directly after the opening comment block, using a series of **import** statements.  \n",
    "A single file of code is called a *module* and a folder of modules is called a *package*.  \n",
    "\n",
    "We will extensively use the numerical python package **numpy** and the **matplotlib** maths plotting package.\n",
    "\n",
    "There are several ways to import...\n",
    "\n",
    "`import numpy`  \n",
    "allows you to refer to any function() in numpy as `numpy.function()`\n",
    "\n",
    "`import numpy as np`  \n",
    "allows you to refer to any function() in numpy as `np.function()`  \n",
    "This is more convenient and the conventional use.\n",
    "\n",
    "`import matplotlib.pyplot`  \n",
    "would allow the plot function to be accessed with `matplotlib.pyplot.plot()`\n",
    "\n",
    "`from matplotlib import pyplot`  \n",
    "would allow the plot function to be accessed with `pyplot.plot()`\n",
    "\n",
    "`import matplotlib.pyplot as plt`  \n",
    "would allow the plot function to be accessed with `plt.plot()`  \n",
    "This is the most common implementation for the `pyplot` module, \n",
    "because pyplot has several useful functions, and it is useful to be  \n",
    "reminded they are defined in that module (you may make your own plot function).\n",
    "\n",
    "`from matplotlib.pyplot import plot`  \n",
    "would allow the plot function to be accessed directly with `plot()`   \n",
    "We might use this syntax for more specific technical functions, e.g. from the `scipy` package.  \n",
    "\n",
    "### Array-like objects\n",
    "We will deal with structured data that can be thought of as vectors, or they may have higher dimensions, such as a 2D table of data or even a cube of data. We will mostly use numpy arrays, though you need to be aware of a few other similar types. You can refer to individual pieces of an array-like object by indexing that item or slicing a piece. E.g. `a[0]` refers to the first item in object a - all arrays are zero-based. `a[0:2]` refers to indices starting at 0 and less than 2. **Note the use of square brackets - don't get confused with lists**\n",
    "\n",
    "#### ndarray\n",
    "Usually returned by a numpy function, e.g. when loading data, but can be instantiated directly from any array-like object (see below).\n",
    "\n",
    "#### list\n",
    "A **list** (type) is identified with square \\[brackets\\] and is an arbitrary collection of objects of any type. This type is widely used in python and has some interesting functionality (beyond scope of our work).\n",
    "\n",
    "#### tuple\n",
    "A **tuple** is very similar to a list, but is identified with round (brackets). The difference between a list and a tuple is that a list is mutable, i.e. it can be modified. In some cases you want to be sure that a piece of code cannot accidentally modify a set of objects that you identify or input, so a tuple is useful for that.\n",
    "\n",
    "We *instantiate* the objects below using the `=` assignment operator.  \n",
    "We compare the objects below using the `==` equality operator.\n"
   ]
  },
  {
   "cell_type": "code",
   "execution_count": 1,
   "metadata": {},
   "outputs": [
    {
     "name": "stdout",
     "output_type": "stream",
     "text": [
      "a is [1.0, 2.0, 3.0] <class 'list'>\n",
      "b is (1.0, 2.0, 3.0) <class 'tuple'>\n",
      "c is [1. 2. 3.] <class 'numpy.ndarray'>\n",
      "d is [1. 2. 3.] <class 'numpy.ndarray'>\n",
      "slice a[0:2] is [1.0, 2.0]\n",
      "a==b False\n",
      "c==d [ True  True  True]\n",
      "new a and c [4.0, 2.0, 3.0] [4. 2. 3.]\n",
      "c==d [False  True  True]\n",
      "Exception: 'tuple' object does not support item assignment\n"
     ]
    }
   ],
   "source": [
    "\"\"\" \n",
    "    This first comment block normally contains a general description of the code. \n",
    "    If you are writing a function and start typing the comment block directly after a \n",
    "    function declaration, spyder will structure it automatically for you.\n",
    "\"\"\"\n",
    "\n",
    "# This next line is only useful in a jupyter notebook, you don't need it in spyder.\n",
    "# It tells the notebook how to display matplotlib graphics (best options are: inline or notebook)\n",
    "%matplotlib inline\n",
    "\n",
    "# This is the first code cell, so import useful packages/modules.\n",
    "import numpy as np\n",
    "import matplotlib.pyplot as plt\n",
    "\n",
    "# instantiate some test objects using the asignment operator =\n",
    "a = [1.0,2.0,3.0]\n",
    "b = (1.0,2.0,3.0)\n",
    "c = np.array(a)\n",
    "d = np.array(b)\n",
    "\n",
    "# print the values and type of object\n",
    "print('a is',a,type(a))\n",
    "print('b is',b,type(b))\n",
    "print('c is',c,type(c))\n",
    "print('d is',d,type(d))\n",
    "\n",
    "print('slice a[0:2] is',a[0:2])\n",
    "\n",
    "# print comparison tests\n",
    "# a is not equal to b because they are different types of object, even though they have equal values\n",
    "print('a==b',a==b)\n",
    "# comparison of two numpy arrays gives an array of truth (bool) values\n",
    "print('c==d',c==d)\n",
    "\n",
    "# modify a specific element\n",
    "a[0] = 4.0\n",
    "c[0] = 4.0\n",
    "print('new a and c',a,c)\n",
    "print('c==d',c==d)\n",
    "\n",
    "# see what an error looks like - a tuple can't be modified once created.\n",
    "# the try command allows you to manage when a program goes wrong \n",
    "# you don't need to worry about using the try command.\n",
    "# If you want to see what a real error looks like, just  uncomment the line below.\n",
    "# b[0] = 4.0 \n",
    "try:  \n",
    "    b[0] = 4.0 \n",
    "except Exception as e: \n",
    "    print('Exception:',e)\n"
   ]
  },
  {
   "cell_type": "markdown",
   "metadata": {},
   "source": [
    "### Array-like objects are iterable\n",
    "We can *iterate* though each item in an array-like object using  \n",
    "\n",
    "**for** item **in** list:\n",
    "\n",
    "    and then indentation tells the code which lines are\n",
    "    \n",
    "    within the loop and can do something with the item\n",
    "    \n",
    "and following lines outside the loop are indented the same as the `for item in list` statement.  \n",
    "\n",
    "However, it is better and faster not to iterate unless you really have to.  \n",
    "For example, say you only wanted to multiply by 2 if values of c were >2. There are 2 ways to do this...\n"
   ]
  },
  {
   "cell_type": "code",
   "execution_count": 2,
   "metadata": {
    "scrolled": true
   },
   "outputs": [
    {
     "name": "stdout",
     "output_type": "stream",
     "text": [
      "c [4. 2. 3.]\n",
      "2c [8. 4. 6.]\n",
      "2*value = 8.0\n",
      "2*value = 6.0\n",
      "selection [ True False  True]\n",
      "2c with only c>2 [8. 6.]\n"
     ]
    }
   ],
   "source": [
    "print('c',c)\n",
    "# multiply whole array by 2\n",
    "print('2c',2*c)\n",
    "\n",
    "# iterate through each value\n",
    "for value in c:\n",
    "    if value > 2:\n",
    "        print('2*value =', 2*value)\n",
    "\n",
    "# This is better code...\n",
    "# select the wanted values then operate on the specifically-indexed array\n",
    "selection = (c > 2)\n",
    "print('selection',selection)\n",
    "print('2c with only c>2', 2*c[selection])"
   ]
  },
  {
   "cell_type": "markdown",
   "metadata": {},
   "source": [
    "## Global wealth: Loading and plotting data\n",
    "There are many ways to load data and it can be challenging. First open the input file to take a look at it. Does it have header lines? Does it have characters that comment out unwanted data within the file? Is it organized into columns? What type of values are they (integers, floating point, strings, time)?  You may have to pre-process the data to get into better shape, or maybe you can load each data column separately to make life easier.  \n",
    "\n",
    "We will primarily use the numpy functions `np.loadtxt()` or `np.genfromtxt()` which are similar to each other. If you want more power, then look at the module called `pandas` or you will have to write your own program to parse data into a useable form.  \n",
    "\n",
    "Let's just jump in and look at a data file."
   ]
  },
  {
   "cell_type": "code",
   "execution_count": 3,
   "metadata": {},
   "outputs": [
    {
     "name": "stdout",
     "output_type": "stream",
     "text": [
      "gdpYear <class 'numpy.ndarray'> [1960. 1961. 1962. 1963. 1964. 1965. 1966. 1967. 1968. 1969. 1970. 1971.\n",
      " 1972. 1973. 1974. 1975. 1976. 1977. 1978. 1979. 1980. 1981. 1982. 1983.\n",
      " 1984. 1985. 1986. 1987. 1988. 1989. 1990. 1991. 1992. 1993. 1994. 1995.\n",
      " 1996. 1997. 1998. 1999. 2000. 2001. 2002. 2003. 2004. 2005. 2006. 2007.\n",
      " 2008. 2009. 2010. 2011. 2012. 2013. 2014. 2015. 2016. 2017. 2018. 2019.]\n",
      "gdpPerCapita [ 3746.06  3856.39  3999.22  4127.27  4315.85  4461.24  4619.75  4732.41\n",
      "  4933.17  5128.15  5204.43  5318.4   5510.96  5756.23  5758.91  5687.47\n",
      "  5882.21  6008.51  6135.19  6277.66  6287.17  6296.89  6212.28  6250.68\n",
      "  6419.94  6543.75  6648.45  6774.26  6963.88  7096.59  7178.94  7162.1\n",
      "  7176.07  7173.76  7278.24  7386.63  7527.55  7694.3   7782.64  7928.28\n",
      "  8167.84  8221.29  8294.77  8434.21  8696.87  8926.04  9202.54  9483.25\n",
      "  9540.78  9267.69  9551.34  9737.34  9865.63 10009.86 10174.84 10346.93\n",
      " 10493.15 10713.1  10924.48 11075.81]\n"
     ]
    }
   ],
   "source": [
    "filename = '../data/economy/gdp-per-capita-world-usd2010.csv'\n",
    "\n",
    "gdpYear = np.genfromtxt(filename,delimiter=',',skip_header=1,usecols=(0,))\n",
    "\n",
    "gdpPerCapita = np.genfromtxt(filename,delimiter=',',skip_header=1,usecols=(1,))\n",
    "\n",
    "print('gdpYear',type(gdpYear),gdpYear)\n",
    "print('gdpPerCapita',gdpPerCapita)\n"
   ]
  },
  {
   "cell_type": "code",
   "execution_count": 4,
   "metadata": {},
   "outputs": [
    {
     "data": {
      "image/png": "[encoded data removed]",
      "text/plain": [
       "<Figure size 1008x504 with 1 Axes>"
      ]
     },
     "metadata": {
      "needs_background": "light"
     },
     "output_type": "display_data"
    }
   ],
   "source": [
    "plt.figure(figsize=[14,7])\n",
    "plt.xlabel('Year')\n",
    "plt.ylabel('World average GDP per capita (inflation adjusted, 2010 USD)')\n",
    "plt.plot(gdpYear,gdpPerCapita)\n",
    "plt.show()"
   ]
  },
  {
   "cell_type": "markdown",
   "metadata": {},
   "source": [
    "The world has got steadily wealthier, on average, over the last 60 years. We have more stuff and more expectations.\n"
   ]
  },
  {
   "cell_type": "markdown",
   "metadata": {},
   "source": [
    "## Formatting a good figure\n",
    "\n",
    "It is important to think about the end use of a figure when constructing it. First, consider what size you want it to be finally presented at. Of key significance is that the main point of the figure will be visible (not too small) and that the text will be uniformly sized through the figures in your document. Text on the same figure should all be close to the same size. Finished text sizes should not be smaller than 6 pt. If you will present a figure in your thesis that may be reduced when published in a journal article, then maybe **produce text in your report at 10-12 pt** if you might reduce by a factor of nearly 50% eventually.  \n",
    "\n",
    "**Finished text size (smallest text at about 6 pt) is how a figure will be sized by a journal**  \n",
    "This is the minimum size.\n",
    "\n",
    "Below is an example of the figure reformatted more appropriately for a single column plot in a journal.  \n",
    "See the [pyplot tutorial](https://matplotlib.org/stable/tutorials/introductory/pyplot.html) for more ideas.  \n",
    "You can also use style sheets and `rcParams` to [customize plots](https://matplotlib.org/stable/tutorials/introductory/customizing.html). \n",
    "\n",
    "Be sure to export/save the file at high resolution. I save it here in two different formats."
   ]
  },
  {
   "cell_type": "code",
   "execution_count": 5,
   "metadata": {},
   "outputs": [
    {
     "data": {
      "image/png": "[encoded data removed]",
      "text/plain": [
       "<Figure size 360x288 with 1 Axes>"
      ]
     },
     "metadata": {
      "needs_background": "light"
     },
     "output_type": "display_data"
    }
   ],
   "source": [
    "plt.figure(figsize=[5,4])\n",
    "plt.xlabel('Year', fontsize=12)\n",
    "# the '\\n' introduces a new line and can be used in any string\n",
    "plt.ylabel('World average GDP per capita\\n(inflation adjusted, 2010 USD)',\n",
    "           fontsize=12)\n",
    "plt.plot(gdpYear,gdpPerCapita,linewidth=2,color='black')\n",
    "# the bbox_inches keyword controls the layout\n",
    "plt.savefig('../figs/gdpPerCapita.pdf',bbox_inches='tight')\n",
    "plt.savefig('../figs/gdpPerCapita.jpg',dpi=300,bbox_inches='tight')\n",
    "plt.show()"
   ]
  },
  {
   "cell_type": "markdown",
   "metadata": {},
   "source": [
    "## Energy consumption history\n",
    "\n",
    "The csv data were downloaded from https://ourworldindata.org/energy. The sources of the data are Vaclav Smil (2017; Energy Transitions: Global and National Perspectives) & BP Statistical Review of World Energy. The file is easy to read, but each column is a particular type of energy (all in TWh) and there is not a combined value - but we can compute that easily.\n",
    "\n",
    "We choose to load the year separately, so that it does not get added into the energy values, which we sum along a horizontal axis."
   ]
  },
  {
   "cell_type": "code",
   "execution_count": 6,
   "metadata": {},
   "outputs": [
    {
     "name": "stdout",
     "output_type": "stream",
     "text": [
      "[1800. 1810. 1820. 1830. 1840. 1850. 1860. 1870. 1880. 1890. 1900. 1910.\n",
      " 1920. 1930. 1940. 1950. 1960. 1965. 1966. 1967. 1968. 1969. 1970. 1971.\n",
      " 1972. 1973. 1974. 1975. 1976. 1977. 1978. 1979. 1980. 1981. 1982. 1983.\n",
      " 1984. 1985. 1986. 1987. 1988. 1989. 1990. 1991. 1992. 1993. 1994. 1995.\n",
      " 1996. 1997. 1998. 1999. 2000. 2001. 2002. 2003. 2004. 2005. 2006. 2007.\n",
      " 2008. 2009. 2010. 2011. 2012. 2013. 2014. 2015. 2016. 2017. 2018.]\n"
     ]
    }
   ],
   "source": [
    "dataDir = '../data/energy-consumption/'\n",
    "filename = dataDir + 'global-primary-energy.csv'\n",
    "\n",
    "energyYear = np.genfromtxt(filename,delimiter=',',skip_header=1,usecols=(2,))\n",
    "\n",
    "energy = np.genfromtxt(filename,delimiter=',',skip_header=1,usecols=range(3,12))\n",
    "\n",
    "energyTotal = np.sum(energy, axis=1)\n",
    "\n",
    "print(energyYear)"
   ]
  },
  {
   "cell_type": "markdown",
   "metadata": {},
   "source": [
    "## UN population projection\n",
    "\n",
    "We load a United Nations population projection (Medium-fertility variant). It is a well-behaved csv file with first line headers. If we use the np.genfromtxt() function then we can automatically assign names to columns using the headers (an alternative approach to what we already did). The time array is evenly spaced from 1950 to 2100, so ideal for modelling into the future (which we will do later). We rescale population values from numbers in thousands to millions, for later convenience."
   ]
  },
  {
   "cell_type": "code",
   "execution_count": 8,
   "metadata": {},
   "outputs": [
    {
     "name": "stdout",
     "output_type": "stream",
     "text": [
      "[1950. 1951. 1952. 1953. 1954. 1955. 1956. 1957. 1958. 1959. 1960. 1961.\n",
      " 1962. 1963. 1964. 1965. 1966. 1967. 1968. 1969. 1970. 1971. 1972. 1973.\n",
      " 1974. 1975. 1976. 1977. 1978. 1979. 1980. 1981. 1982. 1983. 1984. 1985.\n",
      " 1986. 1987. 1988. 1989. 1990. 1991. 1992. 1993. 1994. 1995. 1996. 1997.\n",
      " 1998. 1999. 2000. 2001. 2002. 2003. 2004. 2005. 2006. 2007. 2008. 2009.\n",
      " 2010. 2011. 2012. 2013. 2014. 2015. 2016. 2017. 2018. 2019. 2020. 2021.\n",
      " 2022. 2023. 2024. 2025. 2026. 2027. 2028. 2029. 2030. 2031. 2032. 2033.\n",
      " 2034. 2035. 2036. 2037. 2038. 2039. 2040. 2041. 2042. 2043. 2044. 2045.\n",
      " 2046. 2047. 2048. 2049. 2050. 2051. 2052. 2053. 2054. 2055. 2056. 2057.\n",
      " 2058. 2059. 2060. 2061. 2062. 2063. 2064. 2065. 2066. 2067. 2068. 2069.\n",
      " 2070. 2071. 2072. 2073. 2074. 2075. 2076. 2077. 2078. 2079. 2080. 2081.\n",
      " 2082. 2083. 2084. 2085. 2086. 2087. 2088. 2089. 2090. 2091. 2092. 2093.\n",
      " 2094. 2095. 2096. 2097. 2098. 2099. 2100.]\n"
     ]
    }
   ],
   "source": [
    "dataDir = '../data/world-population/'\n",
    "filename = dataDir + 'UN2019-population-projection-world-Medium.csv'\n",
    "\n",
    "unPopulationModel = np.genfromtxt(filename, delimiter=',', names=True)\n",
    "\n",
    "t = unPopulationModel['Time']\n",
    "print(t)\n",
    "\n",
    "N = unPopulationModel['PopTotal'] / 1000"
   ]
  },
  {
   "cell_type": "markdown",
   "metadata": {},
   "source": [
    "## Your task\n",
    "\n",
    "You can now load and plot data yourself. Create a python program in your `code` directory. I suggest you call it something like `energy-population-wealth.py`. Load all the data and plot all three curves. You can get them all on the same plot or create 3 separate plots. We will come back to these data and plot projections into the future in a later task. Experiment with loading, manipulating and displaying data."
   ]
  }
 ],
 "metadata": {
  "kernelspec": {
   "display_name": "Python 3 (ipykernel)",
   "language": "python",
   "name": "python3"
  },
  "language_info": {
   "codemirror_mode": {
    "name": "ipython",
    "version": 3
   },
   "file_extension": ".py",
   "mimetype": "text/x-python",
   "name": "python",
   "nbconvert_exporter": "python",
   "pygments_lexer": "ipython3",
   "version": "3.7.12"
  }
 },
 "nbformat": 4,
 "nbformat_minor": 4
}
